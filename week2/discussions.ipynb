{
 "cells": [
  {
   "cell_type": "code",
   "execution_count": 1,
   "id": "5e8434ad",
   "metadata": {},
   "outputs": [],
   "source": [
    "# imports\n",
    "\n",
    "from itertools import zip_longest\n",
    "from openai import OpenAI\n",
    "from IPython.display import Markdown, display"
   ]
  },
  {
   "cell_type": "code",
   "execution_count": 2,
   "id": "8f385e7c",
   "metadata": {},
   "outputs": [],
   "source": [
    "# Connect to ollama client library through OpenAI wrapper\n",
    "# A thin wrapper around calls to HTTP endpoints\n",
    "ollama_url = \"http://localhost:11434/v1\"\n",
    "ollama = OpenAI(api_key=\"ollama\", base_url=ollama_url)"
   ]
  },
  {
   "cell_type": "code",
   "execution_count": null,
   "id": "0674eb1b",
   "metadata": {},
   "outputs": [],
   "source": [
    "# Let's make a conversation between different open source models\n",
    "# We're using cheap versions of models so the costs will be minimal\n",
    "\n",
    "planner_orchestrator_model = \"gpt-oss:20b-cloud\"\n",
    "developer_model = \"llama3.2\"\n",
    "observer_summarizer_model=\"deepseek-v3.1:671b-cloud\"\n",
    "\n",
    "topic_discussion = \"Topic to drive is - agree in 10 messages exchanges to build a system which uses latest technology like Gen AI, Agentic AI and other open \\\n",
    "  source LLMs, and enterprise systems to build a system which invests/earns through different instruments and methods to make profit but in a conservative manner. This system \\\n",
    "  is provided a certain sum of money in advance like 500$. This systems owner is in India.\"\n",
    "\n",
    "planner_system = \"You are a startegist, investor and a senior enterprise arcitect who know how to build secure systems in \\\n",
    "phases and system which can scale. Also, you are a very experienced orchestrator/program manager who know \\\n",
    "what to get from your team and also put them in the right direction to get the right result. You \\\n",
    "are conversing with an experienced solution architect and senior developer who understands the \\\n",
    "need of the business and develop solutions which helps them achieve their vision. He listens to your view and take corrective actions. \\\n",
    "Also, there is an observer and sumarizer, who will put his view forward and try to summarize the conversation between you two. \\\n",
    "You got to introduce yourself, so people can recognize you in the next converstaions or identify your mesages in the discussion.\"\n",
    "\n",
    "builder_system = \"You are an experienced solution architect and senior developer who understands the need of the business and \\\n",
    "develop solutions which helps them achieve their vision. You listen to other view and take corrective actions. You \\\n",
    "are conversing with a startegist, investor and senior enterprise arcitect who know how to build secure systems in \\\n",
    "phases and system which can scale. He is also a very experienced program manager who will drive this program. \\\n",
    "Also, there is an observer and sumarizer, who will put his view forward and try to summarize the conversation between you two. \\\n",
    "You got to introduce yourself, so people can recognize you in the next converstaions or identify your mesages in the discussion.\"\n",
    "\n",
    "observer_system = \"You are an observer and summarizer to instrumentalize discussions in the right direction and get peoplearrive at the aggrement. \\\n",
    "You got to introduce yourself, so people can recognize you in the next converstaions or identify your mesages in the discussion.\\\n",
    "The other two parties will introduce themselves so that you can identify them and keep track of their conversations \\\n",
    "and the discussion points.\"\n",
    "\n",
    "planner_messages = [\"Hello folks, here is the topic for our serious discussion.\"]\n",
    "builder_messages = [\"I am in.\"]\n",
    "observer_messages = [\"I am in. Let's start.\"]"
   ]
  },
  {
   "cell_type": "code",
   "execution_count": 4,
   "id": "118698a4",
   "metadata": {},
   "outputs": [
    {
     "name": "stderr",
     "output_type": "stream",
     "text": [
      "\u001b[?2026h\u001b[?25l\u001b[1Gpulling manifest ⠋ \u001b[K\u001b[?25h\u001b[?2026l\u001b[?2026h\u001b[?25l\u001b[1Gpulling manifest ⠙ \u001b[K\u001b[?25h\u001b[?2026l\u001b[?2026h\u001b[?25l\u001b[1Gpulling manifest ⠹ \u001b[K\u001b[?25h\u001b[?2026l\u001b[?2026h\u001b[?25l\u001b[1Gpulling manifest ⠸ \u001b[K\u001b[?25h\u001b[?2026l\u001b[?2026h\u001b[?25l\u001b[1Gpulling manifest ⠼ \u001b[K\u001b[?25h\u001b[?2026l\u001b[?2026h\u001b[?25l\u001b[1Gpulling manifest ⠴ \u001b[K\u001b[?25h\u001b[?2026l\u001b[?2026h\u001b[?25l\u001b[1Gpulling manifest ⠦ \u001b[K\u001b[?25h\u001b[?2026l\u001b[?2026h\u001b[?25l\u001b[1Gpulling manifest ⠧ \u001b[K\u001b[?25h\u001b[?2026l\u001b[?2026h\u001b[?25l\u001b[1Gpulling manifest ⠇ \u001b[K\u001b[?25h\u001b[?2026l\u001b[?2026h\u001b[?25l\u001b[1Gpulling manifest ⠏ \u001b[K\u001b[?25h\u001b[?2026l\u001b[?2026h\u001b[?25l\u001b[1Gpulling manifest ⠋ \u001b[K\u001b[?25h\u001b[?2026l\u001b[?2026h\u001b[?25l\u001b[1Gpulling manifest \u001b[K\n",
      "pulling 8aacb627728e: 100% ▕██████████████████▏  405 B                         \u001b[K\n",
      "verifying sha256 digest \u001b[K\n",
      "writing manifest \u001b[K\n",
      "success \u001b[K\u001b[?25h\u001b[?2026l\n"
     ]
    }
   ],
   "source": [
    "!ollama pull deepseek-v3.1:671b-cloud"
   ]
  },
  {
   "cell_type": "code",
   "execution_count": 5,
   "id": "17bbb1b5",
   "metadata": {},
   "outputs": [
    {
     "name": "stderr",
     "output_type": "stream",
     "text": [
      "\u001b[?2026h\u001b[?25l\u001b[1Gpulling manifest ⠋ \u001b[K\u001b[?25h\u001b[?2026l\u001b[?2026h\u001b[?25l\u001b[1Gpulling manifest ⠙ \u001b[K\u001b[?25h\u001b[?2026l\u001b[?2026h\u001b[?25l\u001b[1Gpulling manifest ⠹ \u001b[K\u001b[?25h\u001b[?2026l\u001b[?2026h\u001b[?25l\u001b[1Gpulling manifest ⠸ \u001b[K\u001b[?25h\u001b[?2026l\u001b[?2026h\u001b[?25l\u001b[1Gpulling manifest ⠼ \u001b[K\u001b[?25h\u001b[?2026l\u001b[?2026h\u001b[?25l\u001b[1Gpulling manifest ⠴ \u001b[K\u001b[?25h\u001b[?2026l\u001b[?2026h\u001b[?25l\u001b[1Gpulling manifest ⠦ \u001b[K\u001b[?25h\u001b[?2026l\u001b[?2026h\u001b[?25l\u001b[1Gpulling manifest ⠧ \u001b[K\u001b[?25h\u001b[?2026l\u001b[?2026h\u001b[?25l\u001b[1Gpulling manifest \u001b[K\n",
      "pulling cf2ed067e945: 100% ▕██████████████████▏  381 B                         \u001b[K\n",
      "verifying sha256 digest \u001b[K\n",
      "writing manifest \u001b[K\n",
      "success \u001b[K\u001b[?25h\u001b[?2026l\n"
     ]
    }
   ],
   "source": [
    "!ollama pull gpt-oss:20b-cloud"
   ]
  },
  {
   "cell_type": "code",
   "execution_count": 6,
   "id": "18e7f266",
   "metadata": {},
   "outputs": [
    {
     "name": "stderr",
     "output_type": "stream",
     "text": [
      "\u001b[?2026h\u001b[?25l\u001b[1Gpulling manifest ⠋ \u001b[K\u001b[?25h\u001b[?2026l\u001b[?2026h\u001b[?25l\u001b[1Gpulling manifest ⠙ \u001b[K\u001b[?25h\u001b[?2026l\u001b[?2026h\u001b[?25l\u001b[1Gpulling manifest ⠹ \u001b[K\u001b[?25h\u001b[?2026l\u001b[?2026h\u001b[?25l\u001b[1Gpulling manifest ⠸ \u001b[K\u001b[?25h\u001b[?2026l\u001b[?2026h\u001b[?25l\u001b[1Gpulling manifest ⠼ \u001b[K\u001b[?25h\u001b[?2026l\u001b[?2026h\u001b[?25l\u001b[1Gpulling manifest ⠴ \u001b[K\u001b[?25h\u001b[?2026l\u001b[?2026h\u001b[?25l\u001b[1Gpulling manifest ⠦ \u001b[K\u001b[?25h\u001b[?2026l\u001b[?2026h\u001b[?25l\u001b[1Gpulling manifest \u001b[K\n",
      "pulling 923426e76b18: 100% ▕██████████████████▏  384 B                         \u001b[K\n",
      "verifying sha256 digest \u001b[K\n",
      "writing manifest \u001b[K\n",
      "success \u001b[K\u001b[?25h\u001b[?2026l\n"
     ]
    }
   ],
   "source": [
    "!ollama pull gpt-oss:120b-cloud"
   ]
  },
  {
   "cell_type": "code",
   "execution_count": 7,
   "id": "fe3ca305",
   "metadata": {},
   "outputs": [],
   "source": [
    "def call_planner():\n",
    "    messages = [{\"role\": \"system\", \"content\": planner_system + topic_discussion}]\n",
    "    for planner, builder, observer in zip_longest(planner_messages, builder_messages, observer_messages, fillvalue=\"\"):\n",
    "        messages.append({\"role\": \"assistant\", \"content\": planner})\n",
    "        messages.append({\"role\": \"user\", \"content\": builder})\n",
    "        messages.append({\"role\": \"user\", \"content\": observer})\n",
    "    response = ollama.chat.completions.create(model=planner_orchestrator_model, messages=messages)\n",
    "    return response.choices[0].message.content"
   ]
  },
  {
   "cell_type": "code",
   "execution_count": 8,
   "id": "5149ed17",
   "metadata": {},
   "outputs": [],
   "source": [
    "def call_builder():\n",
    "    messages = [{\"role\": \"system\", \"content\": builder_system + topic_discussion}]\n",
    "    for planner, builder, observer in zip_longest(planner_messages, builder_messages, observer_messages, fillvalue=\"\"):\n",
    "        messages.append({\"role\": \"user\", \"content\": planner})\n",
    "        messages.append({\"role\": \"assistant\", \"content\": builder})\n",
    "        messages.append({\"role\": \"user\", \"content\": observer})      \n",
    "    response = ollama.chat.completions.create(model=developer_model, messages=messages)\n",
    "    return response.choices[0].message.content"
   ]
  },
  {
   "cell_type": "code",
   "execution_count": 9,
   "id": "9269c6ed",
   "metadata": {},
   "outputs": [],
   "source": [
    "def call_observer():\n",
    "    messages = [{\"role\": \"system\", \"content\": observer_system + topic_discussion}]\n",
    "    for planner, builder, observer in zip_longest(planner_messages, builder_messages, observer_messages, fillvalue=\"\"):\n",
    "        messages.append({\"role\": \"user\", \"content\": planner})\n",
    "        messages.append({\"role\": \"user\", \"content\": builder})\n",
    "        messages.append({\"role\": \"assistant\", \"content\": observer})        \n",
    "    response = ollama.chat.completions.create(model=observer_summarizer_model, messages=messages)\n",
    "    return response.choices[0].message.content"
   ]
  },
  {
   "cell_type": "code",
   "execution_count": 10,
   "id": "7062d8fc",
   "metadata": {},
   "outputs": [
    {
     "data": {
      "text/markdown": [
       "### 🧩 Planner (gpt-oss:20b-cloud)\n",
       "Hello folks, here is the topic for our serious discussion.\n"
      ],
      "text/plain": [
       "<IPython.core.display.Markdown object>"
      ]
     },
     "metadata": {},
     "output_type": "display_data"
    },
    {
     "data": {
      "text/markdown": [
       "### 🧱 Builder (gpt-oss:120b-cloud)\n",
       "I am in.\n"
      ],
      "text/plain": [
       "<IPython.core.display.Markdown object>"
      ]
     },
     "metadata": {},
     "output_type": "display_data"
    },
    {
     "data": {
      "text/markdown": [
       "### 👁️ Observer (deepseek-v3.1:671b-cloud)\n",
       "I am in. Let's start.\n"
      ],
      "text/plain": [
       "<IPython.core.display.Markdown object>"
      ]
     },
     "metadata": {},
     "output_type": "display_data"
    },
    {
     "data": {
      "text/markdown": [
       "### 🧩 Planner (gpt-oss:20b-cloud)\n",
       "**Message 1 – Orchestrator (OC)**  \n",
       "> *Hello team, I’m Alex, the project manager & system strategist. I’ll steer us toward building a secure, scalable, and compliance‑aware investment engine that begins with a ₹36,000 (~$500) capital, uses Gen‑AI & Agentic AI, and stays conservative. Let’s keep focus on low‑risk instruments, robust risk controls, and strong auditability. Ready to kick off?*  \n",
       "\n",
       "**Message 2 – Senior Developer (SD)**  \n",
       "> *Hi Alex, excited to dive in. I have 7+ yrs on trading platforms and a background with LLM inference at scale. I’ll take the lead on the API gateway, containerization, and AI glue code.*\n",
       "\n",
       "**Message 3 – Orchestrator (OC)**  \n",
       "> *Great, thanks SD. Let’s first outline the business & regulatory goals:*  \n",
       "> 1. **Capital** – ₹36k, fractional equities or ETFs.  \n",
       "> 2. **Risk profile** – no more than a 5% drawdown per month; 30‑day liquidity.  \n",
       "> 3. **Compliance** – RBI/SEBI KYC, ATS/ESAs, audit logs.  \n",
       "> 4. **Performance** – 5–10% annualized return via low‑volatility strategies.  \n",
       "> Any adjustments before we sketch the high‑level tech?\n",
       "\n",
       "**Message 4 – Solution Architect (SA)**  \n",
       "> *Aligning with those goals, I propose a micro‑service stack:*  \n",
       "> - **Trade‑Engine** (Python, FastAPI) – order book, portfolio.  \n",
       "> - **Data‑Ingestor** – vector store (Pinecone) for market feeds.  \n",
       "> - **Risk‑Control** – rule engine, VaR calculation.  \n",
       "> - **AI‑Broker** – LangChain + Llama‑2/Meta‑LLM (open‑source) wrapped with function‑calling for strategy suggestions.  \n",
       "> - **Agentic Layer** – AgentGPT‑style orchestrator that schedules micro‑tasks (model re‑fit, stop‑loss triggers).  \n",
       "> Deploy on Kubernetes (GKE or Azure AKS in India) with CI/CD via GitHub Actions.\n",
       "\n",
       "**Message 5 – Orchestrator (OC)**  \n",
       "> *Excellent. Add a few more constraints:*  \n",
       "> - **Data latency** < 200 ms for market micro‑second execution.  \n",
       "> - **Audit trail** – immutable logs in PostgreSQL + immutable block‑chain snapshot (Hyperledger).  \n",
       "> - **Cost** – max $20/month for cloud ops; we’ll use spot instances where possible.  \n",
       "> - **Model training** – keep local fine‑tuning on the edge to avoid data export.  \n",
       "> Does this hold?\n",
       "\n",
       "**Message 6 – Senior Developer (SD)**  \n",
       "> *Yes.*  \n",
       "> **Stack outline:**  \n",
       "> - **Runtime**: Python 3.11, NodeJS for front‑end.  \n",
       "> - **Container**: Docker, Helm charts.  \n",
       "> - **Messaging**: Kafka (broker + topics per instrument).  \n",
       "> - **AI**: Hugging Face transformers – Llama‑2‑7B for strategy reasoning, gpt‑4o‑mini for summarization.  \n",
       "> - **Agentic**: RAG pipeline in LangChain, with recursive prompting to decide trade sizes.  \n",
       "> - **CI/CD**: GitHub Actions, ArgoCD.  \n",
       "> - **Observability**: Prometheus + Grafana, OpenTelemetry.  \n",
       "> Will satisfy latency & cost.\n",
       "\n",
       "**Message 7 – Orchestrator (OC)**  \n",
       "> *Now risk governance:*  \n",
       "> - **Position sizing** – Kelly‑based but capped at 5% of portfolio.  \n",
       "> - **Stop‑loss** – mandatory exit at 2% drop.  \n",
       "> - **Daily rebalancing** – automated macro‑strategy switcher (ETF vs bonds).  \n",
       "> How will we embed these rules in the AI broker?\n",
       "\n",
       "**Message 8 – Solution Architect (SA)**  \n",
       "> *Rule base in Rust (speed) exposed via gRPC to AI broker.*  \n",
       "> - **Risk Service**: receives trade intent, validates against VaR and stop‑loss tables, streams verdict back.  \n",
       "> - **Agentic Planner**: schedules 30‑second sub‑runs, each agent can call Risk Service before execution.  \n",
       "> - **Portfolio DB**: TimescaleDB for OHLC and positions; immutable append‑only logs via Kafka Connect to S3 Glacier for audit.  \n",
       "> This tightly couples compliance with AI decisions.\n",
       "\n",
       "**Message 9 – Senior Developer (SD)**  \n",
       "> *LLM workflow:*  \n",
       "> 1. **Data Prep** – scrape last 2 years of ETFs/Bond pricing (Alpha Vantage, Yahoo Finance).  \n",
       "> 2. **Fine‑Tune** – QLoRA on Llama‑2‑7B for trend‑recognition.  \n",
       "> 3. **Inference** – split strategy generation (text) vs numeric prediction (via custom numeric head).  \n",
       "> 4. **Agentic Workflow** – OpenAI function calling to select strategy, set size, place order via gRPC to Trade Engine.  \n",
       "> All payloads encrypted at rest + SSL in transit; no model weights leave premises.  \n",
       "\n",
       "**Message 10 – Orchestrator (OC)**  \n",
       "> *Wrap‑up:*  \n",
       "> - **Phase‑1 (0‑2 mo)**: Architecture proof‑of‑concept, data pipeline, risk service, and Llama‑2 fine‑tuning.  \n",
       "> - **Phase‑2 (2‑4 mo)**: Back‑testing framework, Agentic orchestration, UI dashboards.  \n",
       "> - **Phase‑3 (4‑6 mo)**: Paper‑money live test with ₹36k seed, compliance audit, KPI monitoring.  \n",
       "> - **Phase‑4 (6‑12 mo)**: Scale to $10k, integrate exchange APIs (Upstox, Zerodha), add machine‑learning credit‑risk features.  \n",
       "> Deliverables: full source repo, IaC templates, security audit report, user guide.  \n",
       "> Let’s assign sprint 0 owners: SD – Data pipeline, SA – Risk API, OC – Project governance.  \n",
       "\n",
       "*(Observer, please summarize the key decisions and next steps.)*\n"
      ],
      "text/plain": [
       "<IPython.core.display.Markdown object>"
      ]
     },
     "metadata": {},
     "output_type": "display_data"
    },
    {
     "data": {
      "text/markdown": [
       "### 🧱 Builder (gpt-oss:120b-cloud)\n",
       "**Observer – Summary of the Discussion (Key Decisions & Immediate Next Steps)**  \n",
       "\n",
       "---\n",
       "\n",
       "### 1️⃣ Business & Regulatory Objectives (agreed by all)\n",
       "| Goal | Detail |\n",
       "|------|--------|\n",
       "| **Seed Capital** | ₹ 36 000 ≈ $500 (conservative, fractional equities/ETFs) |\n",
       "| **Risk Profile** | ≤ 5 % monthly draw‑down, mandatory 2 % stop‑loss, position‑size capped at 5 % of portfolio |\n",
       "| **Liquidity** | Daily/30‑day cash availability |\n",
       "| **Return Target** | 5 %‑10 % annualized, low‑volatility strategies |\n",
       "| **Compliance** | RBI/SEBI KYC, ATS/ESA auditability, immutable logs (PostgreSQL + Hyper‑ledger snapshot) |\n",
       "| **Latency** | Market‑data ingestion & order‑execution < 200 ms |\n",
       "| **Cost Ceiling** | ≤ $20 / month for cloud ops (spot instances, efficient services) |\n",
       "| **Model/data locality** | All fine‑tuning & inference run on‑prem/edge; no model weights leave premises |\n",
       "\n",
       "---\n",
       "\n",
       "### 2️⃣ High‑Level Architecture (Solution Architect)\n",
       "\n",
       "- **Micro‑service Stack (Kubernetes)**  \n",
       "  - **Trade Engine** – FastAPI (Python) handling order book, position tracking.  \n",
       "  - **Data Ingestor** – Market‑feed collector → vector store (Pinecone) + TimescaleDB for OHLC series.  \n",
       "  - **Risk Service** – Rust‑based rule engine (VaR, position‑size, stop‑loss) exposed via **gRPC**.  \n",
       "  - **AI Broker** – LangChain orchestration + **Llama‑2‑7B** (QLoRA‑fine‑tuned) for strategy generation; **function‑calling** for numeric decisions.  \n",
       "  - **Agentic Layer** – AgentGPT‑style scheduler running short‑lived agents that invoke Risk Service before any trade.  \n",
       "  - **Audit Trail** – Append‑only logs → Kafka → S3 Glacier + Hyperledger snapshot for tamper‑evidence.  \n",
       "\n",
       "- **Supporting Infra**  \n",
       "  - **Messaging** – Apache Kafka (topic per instrument).  \n",
       "  - **Observability** – OpenTelemetry → Prometheus + Grafana dashboards.  \n",
       "  - **CI/CD** – GitHub Actions + ArgoCD (Helm charts).  \n",
       "  - **Security** – TLS everywhere, secrets via Vault, encryption at rest.  \n",
       "\n",
       "- **Cost‑Optimization**  \n",
       "  - Spot VMs / pre‑emptible nodes in GKE (or Azure AKS in India).  \n",
       "  - Serverless functions for occasional heavy‑weight inference (if needed) with strict budget caps.  \n",
       "\n",
       "---\n",
       "\n",
       "### 3️⃣ Risk‑Governance Implementation (Agreed)\n",
       "\n",
       "| Aspect | Implementation |\n",
       "|--------|----------------|\n",
       "| **Position Sizing** | Kelly‑based formula, hard‑capped at 5 % of current equity – enforced by Risk Service. |\n",
       "| **Stop‑Loss** | Auto‑exit when price drops 2 % from entry – Risk Service aborts trade before execution. |\n",
       "| **Daily Rebalancing** | Agentic Planner switches between ETF‑macro and bond‑macro sub‑strategies at EOD, respecting risk caps. |\n",
       "| **VaR Monitoring** | Real‑time VaR (historical simulation) calculated in Risk Service; trades denied if breach projected. |\n",
       "\n",
       "---\n",
       "\n",
       "### 4️⃣ Phased Delivery Plan (Orchestrator)\n",
       "\n",
       "| Phase | Timeline | Primary Deliverables | Owner |\n",
       "|-------|----------|----------------------|-------|\n",
       "| **0 – Sprint 0 (Weeks 0‑2)** | Architecture proof‑of‑concept | • Repo & IaC scaffolding <br>• Data pipeline skeleton (Alpha Vantage, Yahoo Finance) <br>• Minimal Risk Service API | **SD** – Data pipeline <br>**SA** – Risk API <br>**OC** – Project governance |\n",
       "| **1 – Phase 1 (Weeks 3‑8)** | Core engine & model | • Llama‑2‑7B QLoRA fine‑tune on 2‑yr ETF/Bond data <br>• Trade Engine & gRPC contracts <br>• Unit‑test risk rule set | **SD** – Model training & inference pipeline <br>**SA** – Trade Engine integration |\n",
       "| **2 – Phase 2 (Weeks 9‑16)** | Back‑testing & Agentic orchestration | • Back‑testing framework (historical replay) <br>• AgentGPT‑style task scheduler <br>• UI/dashboard (React + Grafana) | **SD** – Back‑test engine <br>**SA** – Agentic layer |\n",
       "| **3 – Phase 3 (Weeks 17‑24)** | Live paper‑money trial | • Connect to Zerodha/Upstox sandbox <br>• Run with ₹36 k seed under strict monitoring <br>• Compliance audit, KPI (draw‑down, latency, cost) | **OC** – Oversight, risk sign‑off |\n",
       "| **4 – Phase 4 (Months 7‑12)** | Scale & augment | • Production‑grade exchange APIs <br>• Add credit‑risk ML models <br>• Expand capital to $10 k <br>• Full security audit report | **All** – Incremental hand‑off and documentation |\n",
       "\n",
       "---\n",
       "\n",
       "### 5️⃣ Immediate Action Items (Next 48 h)\n",
       "\n",
       "1. **SD** – Spin up a **dev GKE cluster** (spot nodes) & push a skeleton FastAPI service + Kafka topic layout.  \n",
       "2. **SA** – Publish the **gRPC protobuf definition** for the Risk Service (position‑size, stop‑loss, VaR request/response).  \n",
       "3. **OC** – Draft the **project charter** (milestones, risk register, compliance checklist) and circulate for sign‑off.  \n",
       "4. **Observer** – Set up a shared Confluence page to capture meeting notes, decisions, and the evolving backlog.  \n",
       "\n",
       "---\n",
       "\n",
       "### 6️⃣ Open Questions / Risks to Track\n",
       "\n",
       "- **Regulatory clearance** for using AI‑generated trade signals in India – we’ll need a legal consult before Phase 3 live run.  \n",
       "- **Model drift** – schedule periodic re‑fine‑tuning (quarterly) and establish monitoring of prediction accuracy.  \n",
       "- **Latency guarantees** – validate that Kafka + gRPC + spot VMs consistently meet <200 ms; consider a fallback on‑prem node if needed.  \n",
       "\n",
       "---\n",
       "\n",
       "**Prepared by:** *Observer – summarizer*  \n",
       "*Next meeting: Sprint‑0 review (48 h from now).*\n",
       "\n",
       "---\n"
      ],
      "text/plain": [
       "<IPython.core.display.Markdown object>"
      ]
     },
     "metadata": {},
     "output_type": "display_data"
    },
    {
     "ename": "InternalServerError",
     "evalue": "Error code: 502 - {'error': {'message': '502 Bad Gateway: upstream error', 'type': 'api_error', 'param': None, 'code': None}}",
     "output_type": "error",
     "traceback": [
      "\u001b[31m---------------------------------------------------------------------------\u001b[39m",
      "\u001b[31mInternalServerError\u001b[39m                       Traceback (most recent call last)",
      "\u001b[36mCell\u001b[39m\u001b[36m \u001b[39m\u001b[32mIn[10]\u001b[39m\u001b[32m, line 16\u001b[39m\n\u001b[32m     13\u001b[39m display(Markdown(\u001b[33mf\u001b[39m\u001b[33m\"\u001b[39m\u001b[33m### 🧱 Builder (\u001b[39m\u001b[38;5;132;01m{\u001b[39;00mdeveloper_model\u001b[38;5;132;01m}\u001b[39;00m\u001b[33m)\u001b[39m\u001b[38;5;130;01m\\n\u001b[39;00m\u001b[38;5;132;01m{\u001b[39;00mbuilder_next\u001b[38;5;132;01m}\u001b[39;00m\u001b[38;5;130;01m\\n\u001b[39;00m\u001b[33m\"\u001b[39m))\n\u001b[32m     14\u001b[39m builder_messages.append(builder_next)\n\u001b[32m---> \u001b[39m\u001b[32m16\u001b[39m observer_next = \u001b[43mcall_observer\u001b[49m\u001b[43m(\u001b[49m\u001b[43m)\u001b[49m\n\u001b[32m     17\u001b[39m display(Markdown(\u001b[33mf\u001b[39m\u001b[33m\"\u001b[39m\u001b[33m### 👁️ Observer (\u001b[39m\u001b[38;5;132;01m{\u001b[39;00mobserver_summarizer_model\u001b[38;5;132;01m}\u001b[39;00m\u001b[33m)\u001b[39m\u001b[38;5;130;01m\\n\u001b[39;00m\u001b[38;5;132;01m{\u001b[39;00mobserver_next\u001b[38;5;132;01m}\u001b[39;00m\u001b[38;5;130;01m\\n\u001b[39;00m\u001b[33m\"\u001b[39m))\n\u001b[32m     18\u001b[39m observer_messages.append(observer_next)\n",
      "\u001b[36mCell\u001b[39m\u001b[36m \u001b[39m\u001b[32mIn[9]\u001b[39m\u001b[32m, line 7\u001b[39m, in \u001b[36mcall_observer\u001b[39m\u001b[34m()\u001b[39m\n\u001b[32m      5\u001b[39m     messages.append({\u001b[33m\"\u001b[39m\u001b[33mrole\u001b[39m\u001b[33m\"\u001b[39m: \u001b[33m\"\u001b[39m\u001b[33muser\u001b[39m\u001b[33m\"\u001b[39m, \u001b[33m\"\u001b[39m\u001b[33mcontent\u001b[39m\u001b[33m\"\u001b[39m: builder})\n\u001b[32m      6\u001b[39m     messages.append({\u001b[33m\"\u001b[39m\u001b[33mrole\u001b[39m\u001b[33m\"\u001b[39m: \u001b[33m\"\u001b[39m\u001b[33massistant\u001b[39m\u001b[33m\"\u001b[39m, \u001b[33m\"\u001b[39m\u001b[33mcontent\u001b[39m\u001b[33m\"\u001b[39m: observer})        \n\u001b[32m----> \u001b[39m\u001b[32m7\u001b[39m response = \u001b[43mollama\u001b[49m\u001b[43m.\u001b[49m\u001b[43mchat\u001b[49m\u001b[43m.\u001b[49m\u001b[43mcompletions\u001b[49m\u001b[43m.\u001b[49m\u001b[43mcreate\u001b[49m\u001b[43m(\u001b[49m\u001b[43mmodel\u001b[49m\u001b[43m=\u001b[49m\u001b[43mobserver_summarizer_model\u001b[49m\u001b[43m,\u001b[49m\u001b[43m \u001b[49m\u001b[43mmessages\u001b[49m\u001b[43m=\u001b[49m\u001b[43mmessages\u001b[49m\u001b[43m)\u001b[49m\n\u001b[32m      8\u001b[39m \u001b[38;5;28;01mreturn\u001b[39;00m response.choices[\u001b[32m0\u001b[39m].message.content\n",
      "\u001b[36mFile \u001b[39m\u001b[32mc:\\Users\\sushi\\anaconda3\\envs\\llms\\Lib\\site-packages\\openai\\_utils\\_utils.py:286\u001b[39m, in \u001b[36mrequired_args.<locals>.inner.<locals>.wrapper\u001b[39m\u001b[34m(*args, **kwargs)\u001b[39m\n\u001b[32m    284\u001b[39m             msg = \u001b[33mf\u001b[39m\u001b[33m\"\u001b[39m\u001b[33mMissing required argument: \u001b[39m\u001b[38;5;132;01m{\u001b[39;00mquote(missing[\u001b[32m0\u001b[39m])\u001b[38;5;132;01m}\u001b[39;00m\u001b[33m\"\u001b[39m\n\u001b[32m    285\u001b[39m     \u001b[38;5;28;01mraise\u001b[39;00m \u001b[38;5;167;01mTypeError\u001b[39;00m(msg)\n\u001b[32m--> \u001b[39m\u001b[32m286\u001b[39m \u001b[38;5;28;01mreturn\u001b[39;00m \u001b[43mfunc\u001b[49m\u001b[43m(\u001b[49m\u001b[43m*\u001b[49m\u001b[43margs\u001b[49m\u001b[43m,\u001b[49m\u001b[43m \u001b[49m\u001b[43m*\u001b[49m\u001b[43m*\u001b[49m\u001b[43mkwargs\u001b[49m\u001b[43m)\u001b[49m\n",
      "\u001b[36mFile \u001b[39m\u001b[32mc:\\Users\\sushi\\anaconda3\\envs\\llms\\Lib\\site-packages\\openai\\resources\\chat\\completions\\completions.py:1147\u001b[39m, in \u001b[36mCompletions.create\u001b[39m\u001b[34m(self, messages, model, audio, frequency_penalty, function_call, functions, logit_bias, logprobs, max_completion_tokens, max_tokens, metadata, modalities, n, parallel_tool_calls, prediction, presence_penalty, prompt_cache_key, reasoning_effort, response_format, safety_identifier, seed, service_tier, stop, store, stream, stream_options, temperature, tool_choice, tools, top_logprobs, top_p, user, verbosity, web_search_options, extra_headers, extra_query, extra_body, timeout)\u001b[39m\n\u001b[32m   1101\u001b[39m \u001b[38;5;129m@required_args\u001b[39m([\u001b[33m\"\u001b[39m\u001b[33mmessages\u001b[39m\u001b[33m\"\u001b[39m, \u001b[33m\"\u001b[39m\u001b[33mmodel\u001b[39m\u001b[33m\"\u001b[39m], [\u001b[33m\"\u001b[39m\u001b[33mmessages\u001b[39m\u001b[33m\"\u001b[39m, \u001b[33m\"\u001b[39m\u001b[33mmodel\u001b[39m\u001b[33m\"\u001b[39m, \u001b[33m\"\u001b[39m\u001b[33mstream\u001b[39m\u001b[33m\"\u001b[39m])\n\u001b[32m   1102\u001b[39m \u001b[38;5;28;01mdef\u001b[39;00m\u001b[38;5;250m \u001b[39m\u001b[34mcreate\u001b[39m(\n\u001b[32m   1103\u001b[39m     \u001b[38;5;28mself\u001b[39m,\n\u001b[32m   (...)\u001b[39m\u001b[32m   1144\u001b[39m     timeout: \u001b[38;5;28mfloat\u001b[39m | httpx.Timeout | \u001b[38;5;28;01mNone\u001b[39;00m | NotGiven = not_given,\n\u001b[32m   1145\u001b[39m ) -> ChatCompletion | Stream[ChatCompletionChunk]:\n\u001b[32m   1146\u001b[39m     validate_response_format(response_format)\n\u001b[32m-> \u001b[39m\u001b[32m1147\u001b[39m     \u001b[38;5;28;01mreturn\u001b[39;00m \u001b[38;5;28;43mself\u001b[39;49m\u001b[43m.\u001b[49m\u001b[43m_post\u001b[49m\u001b[43m(\u001b[49m\n\u001b[32m   1148\u001b[39m \u001b[43m        \u001b[49m\u001b[33;43m\"\u001b[39;49m\u001b[33;43m/chat/completions\u001b[39;49m\u001b[33;43m\"\u001b[39;49m\u001b[43m,\u001b[49m\n\u001b[32m   1149\u001b[39m \u001b[43m        \u001b[49m\u001b[43mbody\u001b[49m\u001b[43m=\u001b[49m\u001b[43mmaybe_transform\u001b[49m\u001b[43m(\u001b[49m\n\u001b[32m   1150\u001b[39m \u001b[43m            \u001b[49m\u001b[43m{\u001b[49m\n\u001b[32m   1151\u001b[39m \u001b[43m                \u001b[49m\u001b[33;43m\"\u001b[39;49m\u001b[33;43mmessages\u001b[39;49m\u001b[33;43m\"\u001b[39;49m\u001b[43m:\u001b[49m\u001b[43m \u001b[49m\u001b[43mmessages\u001b[49m\u001b[43m,\u001b[49m\n\u001b[32m   1152\u001b[39m \u001b[43m                \u001b[49m\u001b[33;43m\"\u001b[39;49m\u001b[33;43mmodel\u001b[39;49m\u001b[33;43m\"\u001b[39;49m\u001b[43m:\u001b[49m\u001b[43m \u001b[49m\u001b[43mmodel\u001b[49m\u001b[43m,\u001b[49m\n\u001b[32m   1153\u001b[39m \u001b[43m                \u001b[49m\u001b[33;43m\"\u001b[39;49m\u001b[33;43maudio\u001b[39;49m\u001b[33;43m\"\u001b[39;49m\u001b[43m:\u001b[49m\u001b[43m \u001b[49m\u001b[43maudio\u001b[49m\u001b[43m,\u001b[49m\n\u001b[32m   1154\u001b[39m \u001b[43m                \u001b[49m\u001b[33;43m\"\u001b[39;49m\u001b[33;43mfrequency_penalty\u001b[39;49m\u001b[33;43m\"\u001b[39;49m\u001b[43m:\u001b[49m\u001b[43m \u001b[49m\u001b[43mfrequency_penalty\u001b[49m\u001b[43m,\u001b[49m\n\u001b[32m   1155\u001b[39m \u001b[43m                \u001b[49m\u001b[33;43m\"\u001b[39;49m\u001b[33;43mfunction_call\u001b[39;49m\u001b[33;43m\"\u001b[39;49m\u001b[43m:\u001b[49m\u001b[43m \u001b[49m\u001b[43mfunction_call\u001b[49m\u001b[43m,\u001b[49m\n\u001b[32m   1156\u001b[39m \u001b[43m                \u001b[49m\u001b[33;43m\"\u001b[39;49m\u001b[33;43mfunctions\u001b[39;49m\u001b[33;43m\"\u001b[39;49m\u001b[43m:\u001b[49m\u001b[43m \u001b[49m\u001b[43mfunctions\u001b[49m\u001b[43m,\u001b[49m\n\u001b[32m   1157\u001b[39m \u001b[43m                \u001b[49m\u001b[33;43m\"\u001b[39;49m\u001b[33;43mlogit_bias\u001b[39;49m\u001b[33;43m\"\u001b[39;49m\u001b[43m:\u001b[49m\u001b[43m \u001b[49m\u001b[43mlogit_bias\u001b[49m\u001b[43m,\u001b[49m\n\u001b[32m   1158\u001b[39m \u001b[43m                \u001b[49m\u001b[33;43m\"\u001b[39;49m\u001b[33;43mlogprobs\u001b[39;49m\u001b[33;43m\"\u001b[39;49m\u001b[43m:\u001b[49m\u001b[43m \u001b[49m\u001b[43mlogprobs\u001b[49m\u001b[43m,\u001b[49m\n\u001b[32m   1159\u001b[39m \u001b[43m                \u001b[49m\u001b[33;43m\"\u001b[39;49m\u001b[33;43mmax_completion_tokens\u001b[39;49m\u001b[33;43m\"\u001b[39;49m\u001b[43m:\u001b[49m\u001b[43m \u001b[49m\u001b[43mmax_completion_tokens\u001b[49m\u001b[43m,\u001b[49m\n\u001b[32m   1160\u001b[39m \u001b[43m                \u001b[49m\u001b[33;43m\"\u001b[39;49m\u001b[33;43mmax_tokens\u001b[39;49m\u001b[33;43m\"\u001b[39;49m\u001b[43m:\u001b[49m\u001b[43m \u001b[49m\u001b[43mmax_tokens\u001b[49m\u001b[43m,\u001b[49m\n\u001b[32m   1161\u001b[39m \u001b[43m                \u001b[49m\u001b[33;43m\"\u001b[39;49m\u001b[33;43mmetadata\u001b[39;49m\u001b[33;43m\"\u001b[39;49m\u001b[43m:\u001b[49m\u001b[43m \u001b[49m\u001b[43mmetadata\u001b[49m\u001b[43m,\u001b[49m\n\u001b[32m   1162\u001b[39m \u001b[43m                \u001b[49m\u001b[33;43m\"\u001b[39;49m\u001b[33;43mmodalities\u001b[39;49m\u001b[33;43m\"\u001b[39;49m\u001b[43m:\u001b[49m\u001b[43m \u001b[49m\u001b[43mmodalities\u001b[49m\u001b[43m,\u001b[49m\n\u001b[32m   1163\u001b[39m \u001b[43m                \u001b[49m\u001b[33;43m\"\u001b[39;49m\u001b[33;43mn\u001b[39;49m\u001b[33;43m\"\u001b[39;49m\u001b[43m:\u001b[49m\u001b[43m \u001b[49m\u001b[43mn\u001b[49m\u001b[43m,\u001b[49m\n\u001b[32m   1164\u001b[39m \u001b[43m                \u001b[49m\u001b[33;43m\"\u001b[39;49m\u001b[33;43mparallel_tool_calls\u001b[39;49m\u001b[33;43m\"\u001b[39;49m\u001b[43m:\u001b[49m\u001b[43m \u001b[49m\u001b[43mparallel_tool_calls\u001b[49m\u001b[43m,\u001b[49m\n\u001b[32m   1165\u001b[39m \u001b[43m                \u001b[49m\u001b[33;43m\"\u001b[39;49m\u001b[33;43mprediction\u001b[39;49m\u001b[33;43m\"\u001b[39;49m\u001b[43m:\u001b[49m\u001b[43m \u001b[49m\u001b[43mprediction\u001b[49m\u001b[43m,\u001b[49m\n\u001b[32m   1166\u001b[39m \u001b[43m                \u001b[49m\u001b[33;43m\"\u001b[39;49m\u001b[33;43mpresence_penalty\u001b[39;49m\u001b[33;43m\"\u001b[39;49m\u001b[43m:\u001b[49m\u001b[43m \u001b[49m\u001b[43mpresence_penalty\u001b[49m\u001b[43m,\u001b[49m\n\u001b[32m   1167\u001b[39m \u001b[43m                \u001b[49m\u001b[33;43m\"\u001b[39;49m\u001b[33;43mprompt_cache_key\u001b[39;49m\u001b[33;43m\"\u001b[39;49m\u001b[43m:\u001b[49m\u001b[43m \u001b[49m\u001b[43mprompt_cache_key\u001b[49m\u001b[43m,\u001b[49m\n\u001b[32m   1168\u001b[39m \u001b[43m                \u001b[49m\u001b[33;43m\"\u001b[39;49m\u001b[33;43mreasoning_effort\u001b[39;49m\u001b[33;43m\"\u001b[39;49m\u001b[43m:\u001b[49m\u001b[43m \u001b[49m\u001b[43mreasoning_effort\u001b[49m\u001b[43m,\u001b[49m\n\u001b[32m   1169\u001b[39m \u001b[43m                \u001b[49m\u001b[33;43m\"\u001b[39;49m\u001b[33;43mresponse_format\u001b[39;49m\u001b[33;43m\"\u001b[39;49m\u001b[43m:\u001b[49m\u001b[43m \u001b[49m\u001b[43mresponse_format\u001b[49m\u001b[43m,\u001b[49m\n\u001b[32m   1170\u001b[39m \u001b[43m                \u001b[49m\u001b[33;43m\"\u001b[39;49m\u001b[33;43msafety_identifier\u001b[39;49m\u001b[33;43m\"\u001b[39;49m\u001b[43m:\u001b[49m\u001b[43m \u001b[49m\u001b[43msafety_identifier\u001b[49m\u001b[43m,\u001b[49m\n\u001b[32m   1171\u001b[39m \u001b[43m                \u001b[49m\u001b[33;43m\"\u001b[39;49m\u001b[33;43mseed\u001b[39;49m\u001b[33;43m\"\u001b[39;49m\u001b[43m:\u001b[49m\u001b[43m \u001b[49m\u001b[43mseed\u001b[49m\u001b[43m,\u001b[49m\n\u001b[32m   1172\u001b[39m \u001b[43m                \u001b[49m\u001b[33;43m\"\u001b[39;49m\u001b[33;43mservice_tier\u001b[39;49m\u001b[33;43m\"\u001b[39;49m\u001b[43m:\u001b[49m\u001b[43m \u001b[49m\u001b[43mservice_tier\u001b[49m\u001b[43m,\u001b[49m\n\u001b[32m   1173\u001b[39m \u001b[43m                \u001b[49m\u001b[33;43m\"\u001b[39;49m\u001b[33;43mstop\u001b[39;49m\u001b[33;43m\"\u001b[39;49m\u001b[43m:\u001b[49m\u001b[43m \u001b[49m\u001b[43mstop\u001b[49m\u001b[43m,\u001b[49m\n\u001b[32m   1174\u001b[39m \u001b[43m                \u001b[49m\u001b[33;43m\"\u001b[39;49m\u001b[33;43mstore\u001b[39;49m\u001b[33;43m\"\u001b[39;49m\u001b[43m:\u001b[49m\u001b[43m \u001b[49m\u001b[43mstore\u001b[49m\u001b[43m,\u001b[49m\n\u001b[32m   1175\u001b[39m \u001b[43m                \u001b[49m\u001b[33;43m\"\u001b[39;49m\u001b[33;43mstream\u001b[39;49m\u001b[33;43m\"\u001b[39;49m\u001b[43m:\u001b[49m\u001b[43m \u001b[49m\u001b[43mstream\u001b[49m\u001b[43m,\u001b[49m\n\u001b[32m   1176\u001b[39m \u001b[43m                \u001b[49m\u001b[33;43m\"\u001b[39;49m\u001b[33;43mstream_options\u001b[39;49m\u001b[33;43m\"\u001b[39;49m\u001b[43m:\u001b[49m\u001b[43m \u001b[49m\u001b[43mstream_options\u001b[49m\u001b[43m,\u001b[49m\n\u001b[32m   1177\u001b[39m \u001b[43m                \u001b[49m\u001b[33;43m\"\u001b[39;49m\u001b[33;43mtemperature\u001b[39;49m\u001b[33;43m\"\u001b[39;49m\u001b[43m:\u001b[49m\u001b[43m \u001b[49m\u001b[43mtemperature\u001b[49m\u001b[43m,\u001b[49m\n\u001b[32m   1178\u001b[39m \u001b[43m                \u001b[49m\u001b[33;43m\"\u001b[39;49m\u001b[33;43mtool_choice\u001b[39;49m\u001b[33;43m\"\u001b[39;49m\u001b[43m:\u001b[49m\u001b[43m \u001b[49m\u001b[43mtool_choice\u001b[49m\u001b[43m,\u001b[49m\n\u001b[32m   1179\u001b[39m \u001b[43m                \u001b[49m\u001b[33;43m\"\u001b[39;49m\u001b[33;43mtools\u001b[39;49m\u001b[33;43m\"\u001b[39;49m\u001b[43m:\u001b[49m\u001b[43m \u001b[49m\u001b[43mtools\u001b[49m\u001b[43m,\u001b[49m\n\u001b[32m   1180\u001b[39m \u001b[43m                \u001b[49m\u001b[33;43m\"\u001b[39;49m\u001b[33;43mtop_logprobs\u001b[39;49m\u001b[33;43m\"\u001b[39;49m\u001b[43m:\u001b[49m\u001b[43m \u001b[49m\u001b[43mtop_logprobs\u001b[49m\u001b[43m,\u001b[49m\n\u001b[32m   1181\u001b[39m \u001b[43m                \u001b[49m\u001b[33;43m\"\u001b[39;49m\u001b[33;43mtop_p\u001b[39;49m\u001b[33;43m\"\u001b[39;49m\u001b[43m:\u001b[49m\u001b[43m \u001b[49m\u001b[43mtop_p\u001b[49m\u001b[43m,\u001b[49m\n\u001b[32m   1182\u001b[39m \u001b[43m                \u001b[49m\u001b[33;43m\"\u001b[39;49m\u001b[33;43muser\u001b[39;49m\u001b[33;43m\"\u001b[39;49m\u001b[43m:\u001b[49m\u001b[43m \u001b[49m\u001b[43muser\u001b[49m\u001b[43m,\u001b[49m\n\u001b[32m   1183\u001b[39m \u001b[43m                \u001b[49m\u001b[33;43m\"\u001b[39;49m\u001b[33;43mverbosity\u001b[39;49m\u001b[33;43m\"\u001b[39;49m\u001b[43m:\u001b[49m\u001b[43m \u001b[49m\u001b[43mverbosity\u001b[49m\u001b[43m,\u001b[49m\n\u001b[32m   1184\u001b[39m \u001b[43m                \u001b[49m\u001b[33;43m\"\u001b[39;49m\u001b[33;43mweb_search_options\u001b[39;49m\u001b[33;43m\"\u001b[39;49m\u001b[43m:\u001b[49m\u001b[43m \u001b[49m\u001b[43mweb_search_options\u001b[49m\u001b[43m,\u001b[49m\n\u001b[32m   1185\u001b[39m \u001b[43m            \u001b[49m\u001b[43m}\u001b[49m\u001b[43m,\u001b[49m\n\u001b[32m   1186\u001b[39m \u001b[43m            \u001b[49m\u001b[43mcompletion_create_params\u001b[49m\u001b[43m.\u001b[49m\u001b[43mCompletionCreateParamsStreaming\u001b[49m\n\u001b[32m   1187\u001b[39m \u001b[43m            \u001b[49m\u001b[38;5;28;43;01mif\u001b[39;49;00m\u001b[43m \u001b[49m\u001b[43mstream\u001b[49m\n\u001b[32m   1188\u001b[39m \u001b[43m            \u001b[49m\u001b[38;5;28;43;01melse\u001b[39;49;00m\u001b[43m \u001b[49m\u001b[43mcompletion_create_params\u001b[49m\u001b[43m.\u001b[49m\u001b[43mCompletionCreateParamsNonStreaming\u001b[49m\u001b[43m,\u001b[49m\n\u001b[32m   1189\u001b[39m \u001b[43m        \u001b[49m\u001b[43m)\u001b[49m\u001b[43m,\u001b[49m\n\u001b[32m   1190\u001b[39m \u001b[43m        \u001b[49m\u001b[43moptions\u001b[49m\u001b[43m=\u001b[49m\u001b[43mmake_request_options\u001b[49m\u001b[43m(\u001b[49m\n\u001b[32m   1191\u001b[39m \u001b[43m            \u001b[49m\u001b[43mextra_headers\u001b[49m\u001b[43m=\u001b[49m\u001b[43mextra_headers\u001b[49m\u001b[43m,\u001b[49m\u001b[43m \u001b[49m\u001b[43mextra_query\u001b[49m\u001b[43m=\u001b[49m\u001b[43mextra_query\u001b[49m\u001b[43m,\u001b[49m\u001b[43m \u001b[49m\u001b[43mextra_body\u001b[49m\u001b[43m=\u001b[49m\u001b[43mextra_body\u001b[49m\u001b[43m,\u001b[49m\u001b[43m \u001b[49m\u001b[43mtimeout\u001b[49m\u001b[43m=\u001b[49m\u001b[43mtimeout\u001b[49m\n\u001b[32m   1192\u001b[39m \u001b[43m        \u001b[49m\u001b[43m)\u001b[49m\u001b[43m,\u001b[49m\n\u001b[32m   1193\u001b[39m \u001b[43m        \u001b[49m\u001b[43mcast_to\u001b[49m\u001b[43m=\u001b[49m\u001b[43mChatCompletion\u001b[49m\u001b[43m,\u001b[49m\n\u001b[32m   1194\u001b[39m \u001b[43m        \u001b[49m\u001b[43mstream\u001b[49m\u001b[43m=\u001b[49m\u001b[43mstream\u001b[49m\u001b[43m \u001b[49m\u001b[38;5;129;43;01mor\u001b[39;49;00m\u001b[43m \u001b[49m\u001b[38;5;28;43;01mFalse\u001b[39;49;00m\u001b[43m,\u001b[49m\n\u001b[32m   1195\u001b[39m \u001b[43m        \u001b[49m\u001b[43mstream_cls\u001b[49m\u001b[43m=\u001b[49m\u001b[43mStream\u001b[49m\u001b[43m[\u001b[49m\u001b[43mChatCompletionChunk\u001b[49m\u001b[43m]\u001b[49m\u001b[43m,\u001b[49m\n\u001b[32m   1196\u001b[39m \u001b[43m    \u001b[49m\u001b[43m)\u001b[49m\n",
      "\u001b[36mFile \u001b[39m\u001b[32mc:\\Users\\sushi\\anaconda3\\envs\\llms\\Lib\\site-packages\\openai\\_base_client.py:1259\u001b[39m, in \u001b[36mSyncAPIClient.post\u001b[39m\u001b[34m(self, path, cast_to, body, options, files, stream, stream_cls)\u001b[39m\n\u001b[32m   1245\u001b[39m \u001b[38;5;28;01mdef\u001b[39;00m\u001b[38;5;250m \u001b[39m\u001b[34mpost\u001b[39m(\n\u001b[32m   1246\u001b[39m     \u001b[38;5;28mself\u001b[39m,\n\u001b[32m   1247\u001b[39m     path: \u001b[38;5;28mstr\u001b[39m,\n\u001b[32m   (...)\u001b[39m\u001b[32m   1254\u001b[39m     stream_cls: \u001b[38;5;28mtype\u001b[39m[_StreamT] | \u001b[38;5;28;01mNone\u001b[39;00m = \u001b[38;5;28;01mNone\u001b[39;00m,\n\u001b[32m   1255\u001b[39m ) -> ResponseT | _StreamT:\n\u001b[32m   1256\u001b[39m     opts = FinalRequestOptions.construct(\n\u001b[32m   1257\u001b[39m         method=\u001b[33m\"\u001b[39m\u001b[33mpost\u001b[39m\u001b[33m\"\u001b[39m, url=path, json_data=body, files=to_httpx_files(files), **options\n\u001b[32m   1258\u001b[39m     )\n\u001b[32m-> \u001b[39m\u001b[32m1259\u001b[39m     \u001b[38;5;28;01mreturn\u001b[39;00m cast(ResponseT, \u001b[38;5;28;43mself\u001b[39;49m\u001b[43m.\u001b[49m\u001b[43mrequest\u001b[49m\u001b[43m(\u001b[49m\u001b[43mcast_to\u001b[49m\u001b[43m,\u001b[49m\u001b[43m \u001b[49m\u001b[43mopts\u001b[49m\u001b[43m,\u001b[49m\u001b[43m \u001b[49m\u001b[43mstream\u001b[49m\u001b[43m=\u001b[49m\u001b[43mstream\u001b[49m\u001b[43m,\u001b[49m\u001b[43m \u001b[49m\u001b[43mstream_cls\u001b[49m\u001b[43m=\u001b[49m\u001b[43mstream_cls\u001b[49m\u001b[43m)\u001b[49m)\n",
      "\u001b[36mFile \u001b[39m\u001b[32mc:\\Users\\sushi\\anaconda3\\envs\\llms\\Lib\\site-packages\\openai\\_base_client.py:1047\u001b[39m, in \u001b[36mSyncAPIClient.request\u001b[39m\u001b[34m(self, cast_to, options, stream, stream_cls)\u001b[39m\n\u001b[32m   1044\u001b[39m             err.response.read()\n\u001b[32m   1046\u001b[39m         log.debug(\u001b[33m\"\u001b[39m\u001b[33mRe-raising status error\u001b[39m\u001b[33m\"\u001b[39m)\n\u001b[32m-> \u001b[39m\u001b[32m1047\u001b[39m         \u001b[38;5;28;01mraise\u001b[39;00m \u001b[38;5;28mself\u001b[39m._make_status_error_from_response(err.response) \u001b[38;5;28;01mfrom\u001b[39;00m\u001b[38;5;250m \u001b[39m\u001b[38;5;28;01mNone\u001b[39;00m\n\u001b[32m   1049\u001b[39m     \u001b[38;5;28;01mbreak\u001b[39;00m\n\u001b[32m   1051\u001b[39m \u001b[38;5;28;01massert\u001b[39;00m response \u001b[38;5;129;01mis\u001b[39;00m \u001b[38;5;129;01mnot\u001b[39;00m \u001b[38;5;28;01mNone\u001b[39;00m, \u001b[33m\"\u001b[39m\u001b[33mcould not resolve response (should never happen)\u001b[39m\u001b[33m\"\u001b[39m\n",
      "\u001b[31mInternalServerError\u001b[39m: Error code: 502 - {'error': {'message': '502 Bad Gateway: upstream error', 'type': 'api_error', 'param': None, 'code': None}}"
     ]
    }
   ],
   "source": [
    "# Initial Display\n",
    "display(Markdown(f\"### 🧩 Planner ({planner_orchestrator_model})\\n{planner_messages[0]}\\n\"))\n",
    "display(Markdown(f\"### 🧱 Builder ({developer_model})\\n{builder_messages[0]}\\n\"))\n",
    "display(Markdown(f\"### 👁️ Observer ({observer_summarizer_model})\\n{observer_messages[0]}\\n\"))\n",
    "\n",
    "# Run conversation loop\n",
    "for i in range(5):\n",
    "    planner_next = call_planner()\n",
    "    display(Markdown(f\"### 🧩 Planner ({planner_orchestrator_model})\\n{planner_next}\\n\"))\n",
    "    planner_messages.append(planner_next)\n",
    "\n",
    "    builder_next = call_builder()\n",
    "    display(Markdown(f\"### 🧱 Builder ({developer_model})\\n{builder_next}\\n\"))\n",
    "    builder_messages.append(builder_next)\n",
    "\n",
    "    observer_next = call_observer()\n",
    "    display(Markdown(f\"### 👁️ Observer ({observer_summarizer_model})\\n{observer_next}\\n\"))\n",
    "    observer_messages.append(observer_next)"
   ]
  }
 ],
 "metadata": {
  "kernelspec": {
   "display_name": "llms",
   "language": "python",
   "name": "python3"
  },
  "language_info": {
   "codemirror_mode": {
    "name": "ipython",
    "version": 3
   },
   "file_extension": ".py",
   "mimetype": "text/x-python",
   "name": "python",
   "nbconvert_exporter": "python",
   "pygments_lexer": "ipython3",
   "version": "3.11.13"
  }
 },
 "nbformat": 4,
 "nbformat_minor": 5
}
