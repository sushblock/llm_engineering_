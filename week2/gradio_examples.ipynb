{
 "cells": [
  {
   "cell_type": "code",
   "execution_count": 1,
   "id": "2bc9e40a",
   "metadata": {},
   "outputs": [
    {
     "name": "stdout",
     "output_type": "stream",
     "text": [
      "********************************************\n",
      "* Trying to transpile functions from Python -> JS for performance\n",
      "\n",
      "* (1/1) <lambda>: ✅\n",
      "********************************************\n",
      "\n",
      "* Running on local URL:  http://127.0.0.1:7860\n",
      "* To create a public link, set `share=True` in `launch()`.\n"
     ]
    },
    {
     "data": {
      "text/html": [
       "<div><iframe src=\"http://127.0.0.1:7860/\" width=\"100%\" height=\"500\" allow=\"autoplay; camera; microphone; clipboard-read; clipboard-write;\" frameborder=\"0\" allowfullscreen></iframe></div>"
      ],
      "text/plain": [
       "<IPython.core.display.HTML object>"
      ]
     },
     "metadata": {},
     "output_type": "display_data"
    },
    {
     "data": {
      "text/plain": []
     },
     "execution_count": 1,
     "metadata": {},
     "output_type": "execute_result"
    }
   ],
   "source": [
    "import gradio as gr\n",
    "\n",
    "with gr.Blocks() as demo:\n",
    "    with gr.Row() as row:\n",
    "        btn = gr.Button(\"Hide this row\")\n",
    "    \n",
    "    # This function runs in the browser without a server roundtrip\n",
    "    btn.click(\n",
    "        lambda: gr.Row(visible=False), \n",
    "        None, \n",
    "        row, \n",
    "        js=True\n",
    "    )\n",
    "\n",
    "demo.launch()"
   ]
  },
  {
   "cell_type": "markdown",
   "id": "85d59548",
   "metadata": {},
   "source": [
    "a more complete example showing how client side functions can improve the user experience "
   ]
  },
  {
   "cell_type": "code",
   "execution_count": 2,
   "id": "1de86a20",
   "metadata": {},
   "outputs": [
    {
     "name": "stdout",
     "output_type": "stream",
     "text": [
      "********************************************\n",
      "* Trying to transpile functions from Python -> JS for performance\n",
      "\n",
      "* (1/16) <lambda>: ✅\n",
      "* (2/16) <lambda>: ✅\n",
      "* (3/16) <lambda>: ✅\n",
      "* (4/16) <lambda>: ✅\n",
      "* (5/16) <lambda>: ✅\n",
      "* (6/16) <lambda>: ✅\n",
      "* (7/16) <lambda>: ✅\n",
      "* (8/16) <lambda>: ✅\n",
      "* (9/16) <lambda>: ✅\n",
      "* (10/16) <lambda>: ✅\n",
      "* (11/16) <lambda>: ✅\n",
      "* (12/16) <lambda>: ✅\n",
      "* (13/16) <lambda>: ✅\n",
      "* (14/16) <lambda>: ✅\n",
      "* (15/16) <lambda>: ✅\n",
      "* (16/16) <lambda>: ✅\n",
      "********************************************\n",
      "\n",
      "* Running on local URL:  http://127.0.0.1:7861\n",
      "* To create a public link, set `share=True` in `launch()`.\n"
     ]
    },
    {
     "data": {
      "text/html": [
       "<div><iframe src=\"http://127.0.0.1:7861/\" width=\"100%\" height=\"500\" allow=\"autoplay; camera; microphone; clipboard-read; clipboard-write;\" frameborder=\"0\" allowfullscreen></iframe></div>"
      ],
      "text/plain": [
       "<IPython.core.display.HTML object>"
      ]
     },
     "metadata": {},
     "output_type": "display_data"
    },
    {
     "data": {
      "text/plain": []
     },
     "execution_count": 2,
     "metadata": {},
     "output_type": "execute_result"
    }
   ],
   "source": [
    "\"\"\"\n",
    "This is a simple todo list app that allows you to edit tasks and mark tasks as complete.\n",
    "All actions are performed on the client side.\n",
    "\"\"\"\n",
    "import gradio as gr\n",
    "\n",
    "tasks = [\"Get a job\", \"Marry rich\", \"\", \"\", \"\", \"\"]\n",
    "textboxes = []\n",
    "buttons = []\n",
    "with gr.Blocks() as demo:\n",
    "    with gr.Row():\n",
    "        with gr.Column(scale=3):\n",
    "            gr.Markdown(\"# A Simple Interactive Todo List\")\n",
    "        with gr.Column(scale=2):\n",
    "            with gr.Row():\n",
    "                freeze_button = gr.Button(\"Freeze tasks\", variant=\"stop\")\n",
    "                edit_button = gr.Button(\"Edit tasks\")\n",
    "    for i in range(6):\n",
    "        with gr.Row() as r:\n",
    "            t = gr.Textbox(tasks[i], placeholder=\"Enter a task\", show_label=False, container=False, scale=7, interactive=True)\n",
    "            b = gr.Button(\"✔️\", interactive=bool(tasks[i]), variant=\"primary\" if tasks[i] else \"secondary\")\n",
    "            textboxes.append(t)\n",
    "            buttons.append(b)\n",
    "        t.change(lambda : gr.Button(interactive=True, variant=\"primary\"), None, b, js=True)\n",
    "        b.click(lambda : gr.Row(visible=False), None, r, js=True)\n",
    "    freeze_button.click(lambda : [gr.Textbox(interactive=False), gr.Textbox(interactive=False), gr.Textbox(interactive=False), gr.Textbox(interactive=False), gr.Textbox(interactive=False), gr.Textbox(interactive=False)], None, textboxes, js=True)\n",
    "    edit_button.click(lambda : [gr.Textbox(interactive=True), gr.Textbox(interactive=True), gr.Textbox(interactive=True), gr.Textbox(interactive=True), gr.Textbox(interactive=True), gr.Textbox(interactive=True)], None, textboxes, js=True)\n",
    "    freeze_button.click(lambda : [gr.Button(visible=False), gr.Button(visible=False), gr.Button(visible=False), gr.Button(visible=False), gr.Button(visible=False), gr.Button(visible=False)], None, buttons, js=True)\n",
    "    edit_button.click(lambda : [gr.Button(visible=True), gr.Button(visible=True), gr.Button(visible=True), gr.Button(visible=True), gr.Button(visible=True), gr.Button(visible=True)], None, buttons, js=True)\n",
    "\n",
    "demo.launch()\n"
   ]
  }
 ],
 "metadata": {
  "kernelspec": {
   "display_name": "llms",
   "language": "python",
   "name": "python3"
  },
  "language_info": {
   "codemirror_mode": {
    "name": "ipython",
    "version": 3
   },
   "file_extension": ".py",
   "mimetype": "text/x-python",
   "name": "python",
   "nbconvert_exporter": "python",
   "pygments_lexer": "ipython3",
   "version": "3.11.13"
  }
 },
 "nbformat": 4,
 "nbformat_minor": 5
}
