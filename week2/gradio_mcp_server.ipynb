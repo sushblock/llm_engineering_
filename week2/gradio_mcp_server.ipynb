{
 "cells": [
  {
   "cell_type": "markdown",
   "id": "ba465a76",
   "metadata": {},
   "source": [
    "Building an MCP Server with Gradio\n",
    "\n",
    "In this guide, we will describe how to launch your Gradio app so that it functions as an MCP Server.\n",
    "\n",
    "Punchline: it's as simple as setting mcp_server=True in .launch()."
   ]
  },
  {
   "cell_type": "code",
   "execution_count": 1,
   "id": "e4820511",
   "metadata": {},
   "outputs": [
    {
     "name": "stdout",
     "output_type": "stream",
     "text": [
      "* Running on local URL:  http://127.0.0.1:7860\n",
      "* To create a public link, set `share=True` in `launch()`.\n",
      "\n",
      "🔨 Launching MCP server:\n",
      "** Streamable HTTP URL: http://127.0.0.1:7860/gradio_api/mcp/\n",
      "* [Deprecated] SSE URL: http://127.0.0.1:7860/gradio_api/mcp/sse\n"
     ]
    },
    {
     "data": {
      "text/html": [
       "<div><iframe src=\"http://127.0.0.1:7860/\" width=\"100%\" height=\"500\" allow=\"autoplay; camera; microphone; clipboard-read; clipboard-write;\" frameborder=\"0\" allowfullscreen></iframe></div>"
      ],
      "text/plain": [
       "<IPython.core.display.HTML object>"
      ]
     },
     "metadata": {},
     "output_type": "display_data"
    }
   ],
   "source": [
    "# LLMs are famously not great at counting the number of letters in a word (e.g. the number of \"r\"-s in \"strawberry\"). \n",
    "# But what if we equip them with a tool to help? \n",
    "# Let's start by writing a simple Gradio app that counts the number of letters in a word or phrase:\n",
    "\n",
    "import gradio as gr\n",
    "\n",
    "def letter_counter(word, letter):\n",
    "    \"\"\"\n",
    "    Count the number of occurrences of a letter in a word or text.\n",
    "\n",
    "    Args:\n",
    "        word (str): The input text to search through\n",
    "        letter (str): The letter to search for\n",
    "\n",
    "    Returns:\n",
    "        str: A message indicating how many times the letter appears\n",
    "    \"\"\"\n",
    "    word = word.lower()\n",
    "    letter = letter.lower()\n",
    "    count = word.count(letter)\n",
    "    return count\n",
    "\n",
    "demo = gr.Interface(\n",
    "    fn=letter_counter,\n",
    "    inputs=[gr.Textbox(\"strawberry\"), gr.Textbox(\"r\")],\n",
    "    outputs=[gr.Number()],\n",
    "    title=\"Letter Counter\",\n",
    "    description=\"Enter text and a letter to count how many times the letter appears in the text.\"\n",
    ")\n",
    "\n",
    "if __name__ == \"__main__\":\n",
    "    demo.launch(mcp_server=True)\n"
   ]
  },
  {
   "cell_type": "markdown",
   "id": "92d2845b",
   "metadata": {},
   "source": [
    "Notice that we have: (1) included a detailed docstring for our function, and (2) set mcp_server=True in .launch(). This is all that's needed for your Gradio app to serve as an MCP server! Now, when you run this app, it will:\n",
    "\n",
    "Start the regular Gradio web interface\n",
    "Start the MCP server\n",
    "Print the MCP server URL in the console\n",
    "The MCP server will be accessible at:\n",
    "\n",
    "\n",
    "http://your-server:port/gradio_api/mcp/sse\n",
    "\n",
    "Gradio automatically converts the letter_counter function into an MCP tool that can be used by LLMs. The docstring of the function and the type hints of arguments will be used to generate the description of the tool and its parameters. The name of the function will be used as the name of your tool. Any initial values you provide to your input components (e.g. \"strawberry\" and \"r\" in the gr.Textbox components above) will be used as the default values if your LLM doesn't specify a value for that particular input parameter.\n",
    "\n",
    "Now, all you need to do is add this URL endpoint to your MCP Client (e.g. Claude Desktop, Cursor, or Cline), which typically means pasting this config in the settings:\n",
    "\n",
    "\n",
    "{\n",
    "  \"mcpServers\": {\n",
    "    \"gradio\": {\n",
    "      \"url\": \"http://your-server:port/gradio_api/mcp/sse\"\n",
    "    }\n",
    "  }\n",
    "}\n"
   ]
  },
  {
   "cell_type": "markdown",
   "id": "66936a91",
   "metadata": {},
   "source": [
    "Key features of the Gradio <> MCP Integration\n",
    "\n",
    "Tool Conversion: Each API endpoint in your Gradio app is automatically converted into an MCP tool with a corresponding name, description, and input schema. To view the tools and schemas, visit http://your-server:port/gradio_api/mcp/schema or go to the \"View API\" link in the footer of your Gradio app, and then click on \"MCP\".\n",
    "\n",
    "Environment variable support. \n",
    "\n",
    "There are two ways to enable the MCP server functionality:\n",
    "\n",
    "Using the mcp_server parameter, as shown above:\n",
    "demo.launch(mcp_server=True)\n",
    "\n",
    "Using environment variables:\n",
    "export GRADIO_MCP_SERVER=True\n",
    "\n",
    "File Handling: The Gradio MCP server automatically handles file data conversions, including:\n",
    "\n",
    "Processing image files and returning them in the correct format\n",
    "\n",
    "Managing temporary file storage\n",
    "\n",
    "By default, the Gradio MCP server accepts input images and files as full URLs (\"http://...\" or \"https:/...\"). For convenience, an additional STDIO-based MCP server is also generated, which can be used to upload files to any remote Gradio app and which returns a URL that can be used for subsequent tool calls.\n",
    "\n",
    "Hosted MCP Servers on 󠀠🤗 Spaces: You can publish your Gradio application for free on Hugging Face Spaces, which will allow you to have a free hosted MCP server. Here's an example of such a Space: https://huggingface.co/spaces/abidlabs/mcp-tools. Notice that you can add this config to your MCP Client to start using the tools from this Space immediately:\n",
    "\n",
    "\n",
    "{\n",
    "  \"mcpServers\": {\n",
    "    \"gradio\": {\n",
    "      \"url\": \"https://abidlabs-mcp-tools.hf.space/gradio_api/mcp/sse\"\n",
    "    }\n",
    "  }\n",
    "}"
   ]
  },
  {
   "cell_type": "markdown",
   "id": "b7d8d7a2",
   "metadata": {},
   "source": [
    "//////////////// All this easy way MCP Server creation intersting stuff you can find at ----- https://www.gradio.app/guides/building-mcp-server-with-gradio"
   ]
  },
  {
   "cell_type": "code",
   "execution_count": null,
   "id": "af8dbbb5",
   "metadata": {},
   "outputs": [],
   "source": [
    "# *******************Beautiful******************, I am using one of my custome API and translating it into a MCP Server\n",
    "from scraper import fetch_website_contents, fetch_website_links"
   ]
  },
  {
   "cell_type": "code",
   "execution_count": 5,
   "id": "5a0d5e16",
   "metadata": {},
   "outputs": [
    {
     "name": "stdout",
     "output_type": "stream",
     "text": [
      "* Running on local URL:  http://127.0.0.1:7862\n",
      "* To create a public link, set `share=True` in `launch()`.\n",
      "\n",
      "🔨 Launching MCP server:\n",
      "** Streamable HTTP URL: http://127.0.0.1:7862/gradio_api/mcp/\n",
      "* [Deprecated] SSE URL: http://127.0.0.1:7862/gradio_api/mcp/sse\n"
     ]
    },
    {
     "data": {
      "text/html": [
       "<div><iframe src=\"http://127.0.0.1:7862/\" width=\"100%\" height=\"500\" allow=\"autoplay; camera; microphone; clipboard-read; clipboard-write;\" frameborder=\"0\" allowfullscreen></iframe></div>"
      ],
      "text/plain": [
       "<IPython.core.display.HTML object>"
      ]
     },
     "metadata": {},
     "output_type": "display_data"
    }
   ],
   "source": [
    "import gradio as gr\n",
    "\n",
    "web_scrape = gr.Interface(\n",
    "    fn=fetch_website_contents,\n",
    "    inputs=[gr.Textbox(\"Enter the URL\")],\n",
    "    outputs=[gr.TextArea()],\n",
    "    examples=[\"https://www.gradio.app/\",\"https://www.udemy.com/\"],\n",
    "    description=\"Select one of the urls, or, type an url to scrape it's content\"\n",
    ")\n",
    "\n",
    "get_web_links = gr.Interface(\n",
    "    fn=fetch_website_links,\n",
    "    inputs=[gr.Textbox(\"Enter the URL\")],\n",
    "    outputs=[gr.TextArea()],\n",
    "    examples=[\"https://www.gradio.app/\",\"https://www.udemy.com/\"],\n",
    "    description=\"Select one of the urls, or, type an url to scrape the links present.\"\n",
    ")\n",
    "\n",
    "demo = gr.TabbedInterface([web_scrape, get_web_links], [\"Web Scraping Tool\", \"Website Links\"])\n",
    "\n",
    "if __name__ == \"__main__\":\n",
    "    demo.launch(mcp_server=True)"
   ]
  }
 ],
 "metadata": {
  "kernelspec": {
   "display_name": "llms",
   "language": "python",
   "name": "python3"
  },
  "language_info": {
   "codemirror_mode": {
    "name": "ipython",
    "version": 3
   },
   "file_extension": ".py",
   "mimetype": "text/x-python",
   "name": "python",
   "nbconvert_exporter": "python",
   "pygments_lexer": "ipython3",
   "version": "3.11.13"
  }
 },
 "nbformat": 4,
 "nbformat_minor": 5
}
